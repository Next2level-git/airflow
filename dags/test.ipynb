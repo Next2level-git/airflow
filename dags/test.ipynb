{
 "cells": [
  {
   "cell_type": "code",
   "execution_count": 2,
   "metadata": {},
   "outputs": [],
   "source": [
    "import requests\n",
    "import pandas as pd\n",
    "\n",
    "url = \"https://instagram-scraper-2025.p.rapidapi.com/user-info\"\n",
    "\n",
    "querystring = {\"username\":\"lerigames66\"}\n",
    "\n",
    "headers = {\n",
    "\t\"x-rapidapi-key\": \"5ada26f90cmsh42c7290dd83d724p1f721cjsn4b0c4acc71b9\",\n",
    "\t\"x-rapidapi-host\": \"instagram-scraper-2025.p.rapidapi.com\"\n",
    "}\n",
    "\n",
    "response = requests.get(url, headers=headers, params=querystring)\n",
    "response_data = response.json()\n",
    "df = pd.DataFrame(response_data)\n",
    "df_new = df.transpose()\n",
    "df_new = df_new.drop(index=\"status\")\n",
    "df_new = df_new.reset_index()"
   ]
  },
  {
   "cell_type": "code",
   "execution_count": 3,
   "metadata": {},
   "outputs": [],
   "source": [
    "df_new['url_image'] = df_new[\"hd_profile_pic_url_info\"].apply(lambda x: x[\"url\"])"
   ]
  },
  {
   "cell_type": "code",
   "execution_count": 4,
   "metadata": {},
   "outputs": [],
   "source": [
    "import cairosvg\n",
    "import base64"
   ]
  },
  {
   "cell_type": "code",
   "execution_count": 5,
   "metadata": {},
   "outputs": [],
   "source": [
    "def download_and_convert_to_base64(url):\n",
    "            try:\n",
    "                response = requests.get(url)\n",
    "                response.raise_for_status()\n",
    "\n",
    "                if response.headers[\"Content-Type\"] == \"image/svg+xml\":\n",
    "                    svg_data = response.content\n",
    "                    png_data = cairosvg.svg2png(bytestring=svg_data)\n",
    "                else:\n",
    "                    png_data = response.content\n",
    "                base64_image = base64.b64encode(png_data).decode(\"utf-8\")\n",
    "                return base64_image\n",
    "            except Exception as e:\n",
    "                print(f\"Error to downlad image: {e}\")\n",
    "                return None\n",
    "\n",
    "df_new[\"profile_picture\"] = df_new[\"url_image\"].apply(\n",
    "            download_and_convert_to_base64\n",
    "        )"
   ]
  },
  {
   "cell_type": "code",
   "execution_count": null,
   "metadata": {},
   "outputs": [],
   "source": []
  }
 ],
 "metadata": {
  "kernelspec": {
   "display_name": "venvairflownext",
   "language": "python",
   "name": "python3"
  },
  "language_info": {
   "codemirror_mode": {
    "name": "ipython",
    "version": 3
   },
   "file_extension": ".py",
   "mimetype": "text/x-python",
   "name": "python",
   "nbconvert_exporter": "python",
   "pygments_lexer": "ipython3",
   "version": "3.12.3"
  }
 },
 "nbformat": 4,
 "nbformat_minor": 2
}
